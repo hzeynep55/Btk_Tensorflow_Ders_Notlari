import pandas as pd
import numpy as np
import matplotlib.pyplot as plt
import seaborn as sbn

df_car=pd.read_excel("merc.xlsx")
df_car.head()
df_car.describe()

df_car.isnull().sum()
plt.figure(figsize=(7,5))
sbn.distplot(df_car["price"])
'''Verillerin belli bir kısmını çıkaracağız.'''

sbn.countplot(df_car["year"]) '''yıllara göre toplam araba sayıları'''

'''verilerin birbirleri arasındaki kolerasyonunAa bakıyoruz:'''
df_car.corr()
df_car.corr()["price"].sort_values()
sbn.scatterplot(x="mileage",y="price",data=df_car)

df_car.sort_values("price",ascending=False).head(20) '''ascending=False en yüksek fiyat en yukarda görünecek'''

df_car.sort_values("price",ascending=True).head(20)

len(df_car)
len(df_car)*0.01 '''en yüksek 131 fiyatlı arabayı bulalım ve atalım.'''

'''Veri Temizliği'''
dfyuzde99=df_car.sort_values("price",ascending=False).iloc[131:]
dfyuzde99
dfyuzde99.describe()

plt.figure(figsize=(7,5))
sbn.distplot(dfyuzde99["price"])
df_car.groupby("year").mean()["price"]
dfyuzde99.groupby("year").mean()["price"]

df_car[df_car.year !=1970].groupby("year").mean()["price"]
df_car=dfyuzde99

df_car.describe()

df_car=df_car[df_car.year !=1970]
df_car.groupby("year").mean()["price"]

df_car=df_car.drop("transmission",axis=1)
df_car.head()

y=df_car["price"].values '''values diyerek numpy dizisine çevirdik.'''
x=df_car.drop("price",axis=1).values
y
x
from sklearn.model_selection import  train_test_split '''x_test,y_test,x_train,y_train->x ve y yi hem eğiteceğimiz hem de test edeceğimiz diziye bölecek.'''
x_train,x_test,y_train,y_test=train_test_split(x,y,test_size=0.3, random_state=10)

len(x_train)
len(x_test)

from sklearn.preprocessing import MinMaxScaler
scaler=MinMaxScaler()

x_train=scaler.fit_transform(x_train)
x_test=scaler.transform(x_test)

from tensorflow.keras.models import Sequential
from tensorflow.keras.layers import Dense

x_train.shape '''9090 tane veri içerisinde var ve 5 tane de özellik(feature) bulunuyor'''
model=Sequential()
'''12 nöron var ve aktivasyon fonksiyonu:relu, 4 tane katman oluşturduk'''
model.add(Dense(12,activation="relu"))
model.add(Dense(12,activation="relu"))
model.add(Dense(12,activation="relu"))
model.add(Dense(12,activation="relu"))
model.add((Dense(1))) #->Çıkış katmanı
model.compile(optimizer="adam",loss="mse")

model.fit(x=x_train,y=y_train,validation_data=(x_test,y_test),batch_size=250,epochs=300)
kayıpveri=pd.DataFrame(model.history.history)
kayıpveri.head(11)
kayıpveri.plot() 

from sklearn.metrics import mean_squared_error,mean_absolute_error
tahmin_dizisi=model.predict(x_test)
tahmin_dizisi
mean_absolute_error(y_test,tahmin_dizisi)
df_car.describe()

plt.scatter(y_test,tahmin_dizisi)
plt.plot(y_test,y_test,"r-")

df_car.iloc[2]
yeniAraba_series=df_car.drop("price",axis=1).iloc[2]
yeniAraba_series
yeniAraba_series=scaler.transform(yeniAraba_series.values.reshape(-1,5))
model.predict(yeniAraba_series)






































