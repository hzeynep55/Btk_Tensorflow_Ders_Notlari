import pandas as pd
df=pd.read_excel("bisiklet_fiyatlari.xlsx")
df.head()
import seaborn as sbn
import matplotlib.pyplot as plt
sbn.pairplot(df)
from sklearn.model_selection import train_test_split
#y=wx+b
#y->label
y=df["Fiyat"].values #diziye çevirdik
#x->feature(özellik)
x=df[["BisikletOzellik1","BisikletOzellik2"]].values
x_train,x_test,y_train,y_test=train_test_split(x,y,test_size=0.33,random_state=15)
x_train.shape
x_test.shape
y_train.shape
y_test.shape

from sklearn.preprocessing import MinMaxScaler #işlemekten önce yapılacak işlemler
scaler=MinMaxScaler()
scaler.fit(x_train) #fit ederek uygun hale getirmeye çalışılıyor.
x_train=scaler.transform(x_train)  #veriler scaler edildi. Yani 0 ile 1 arasına getirildi
x_test=scaler.transform(x_test)     #veriler scaler edildi. Yani 0 ile 1 arasına getirildi
x_train #veriler scaler edildi. Yani 0 ile 1 arasına getirildi

x_test  #veriler scaler edildi. Yani 0 ile 1 arasına getirildi

import tensorflow as tf
from tensorflow.keras.models import Sequential #sequential modelimizin sınıfı. ınıf burada oluşturuyorlar 
from tensorflow.keras.layers import Dense #Katmanlar 

model=Sequential() #Model oluşturuldu. Daha sonra model içine katmanlar oluşturulacak.
model.add(Dense(5,activation="relu"))
model.add(Dense(5,activation="relu"))
model.add(Dense(5,activation="relu"))
#Katman oluşturma, 5 nöron, aktivasyon fonksiyonu:ReLu, 3 tane hidder layer var.
model.add(Dense(1)) # ->Çıktı katmanı.1 tane nöron var.
model.compile(optimizer="rmsprop",loss="mse") # Bütün yapılanları birleştiriyor. mse regresyonu

model.fit(x_train,y_train,epochs=250)

loss=model.history.history["loss"] #loss değerlerini veriyor.
sbn.lineplot(x=range(len(loss)),y=(loss))

model.evaluate(x_train,y_train) #modelin kendi değerlendirmesi
trainloss=model.evaluate(x_train,y_train, verbose=0) #verbose=0 ile bir şey döndürmedi. Sadece çıktıyı yazdı.
testloss=model.evaluate(x_test,y_test, verbose=0)

trainloss
testloss  # Birbirlerine yakın rakamlar olmasına bakıyoruz. traimloss ve testloss karşılaştırması

testTahminleri=model.predict(x_test)
testTahminleri

tahmindf=pd.DataFrame(y_test,columns=["Gerçek Y"])
tahmindf

testTahminleri=pd.Series(testTahminleri.reshape(330,)) #330 tahmin var
testTahminleri

tahmindf=pd.concat([tahmindf,testTahminleri],axis=1) #birleştiriyoruz
tahmindf

tahmindf.columns=["Gerçek Y","Tahmin y"]
tahmindf

sbn.scatterplot(x="Gerçek Y",y="Tahmin y", data=tahmindf)

from sklearn.metrics import mean_absolute_error,mean_squared_error

mean_absolute_error(tahmindf["Gerçek Y"],tahmindf["Tahmin y"])
mean_squared_error(tahmindf["Gerçek Y"],tahmindf["Tahmin y"])

df.describe()

yenibisikletozellik=[[1750,1749]]
yenibisikletozellik=scaler.transform(yenibisikletozellik)
model.predict(yenibisikletozellik)

from tensorflow.keras.models import  load_model

model.save("bisiklet_modeli.h5")
sonradancagrilanmodel=load_model("bisiklet_modeli.h5")
sonradancagrilanmodel.predict(yenibisikletozellik)

